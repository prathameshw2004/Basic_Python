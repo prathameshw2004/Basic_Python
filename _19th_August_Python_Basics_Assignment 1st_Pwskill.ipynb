{
 "cells": [
  {
   "cell_type": "markdown",
   "id": "725d3668",
   "metadata": {},
   "source": [
    "## Assignment 1st Pwskill"
   ]
  },
  {
   "cell_type": "markdown",
   "id": "d0e2e43d",
   "metadata": {},
   "source": [
    "### TOPIC: Python Basics Variable"
   ]
  },
  {
   "cell_type": "markdown",
   "id": "82bfa42b",
   "metadata": {},
   "source": [
    "##### 1. Declare two variables, `x` and `y`, and assign them integer values. Swap the values of these variables without using any temporary variable."
   ]
  },
  {
   "cell_type": "code",
   "execution_count": 2,
   "id": "16de35fb",
   "metadata": {},
   "outputs": [
    {
     "data": {
      "text/plain": [
       "(10, 5)"
      ]
     },
     "execution_count": 2,
     "metadata": {},
     "output_type": "execute_result"
    }
   ],
   "source": [
    "x = 5\n",
    "y = 10\n",
    "\n",
    "x, y = y, x\n",
    "x,y"
   ]
  },
  {
   "cell_type": "markdown",
   "id": "16eeb85e",
   "metadata": {},
   "source": [
    "#### 2.Create a program that calculates the area of a rectangle. Take the length and width as inputs from the user and store them in variables. Calculate and display the area."
   ]
  },
  {
   "cell_type": "code",
   "execution_count": 16,
   "id": "78ab7569",
   "metadata": {},
   "outputs": [
    {
     "name": "stdout",
     "output_type": "stream",
     "text": [
      "Enter the length of the rectangle: 20\n",
      "Enter the width of the rectangle: 10\n",
      "The area of the rectangle is: 200.0\n"
     ]
    }
   ],
   "source": [
    "# Input length and width from the user\n",
    "length = float(input(\"Enter the length of the rectangle: \"))\n",
    "width = float(input(\"Enter the width of the rectangle: \"))\n",
    "\n",
    "# Calculate the area of the rectangle\n",
    "area = length * width\n",
    "\n",
    "# Display the calculated area\n",
    "print(\"The area of the rectangle is:\", area)\n"
   ]
  },
  {
   "cell_type": "markdown",
   "id": "4d624609",
   "metadata": {},
   "source": [
    "#### 3.Write a Python program that converts temperatures from Celsius to Fahrenheit. Take the temperature in Celsius as input, store it in a variable, convert it to Fahrenheit, and display the result."
   ]
  },
  {
   "cell_type": "code",
   "execution_count": 17,
   "id": "fbc74926",
   "metadata": {},
   "outputs": [
    {
     "name": "stdout",
     "output_type": "stream",
     "text": [
      "Enter the temperature in the celcius: 37\n",
      "The temperature in Fahrenheit is: 98.60\n"
     ]
    }
   ],
   "source": [
    "# Input temperature in Celsius from the user\n",
    "celcius = float(input(\"Enter the temperature in the celcius: \"))\n",
    "\n",
    "# Convert celcius into fahreheit\n",
    "fahrenheit = (celcius * 9/5) + 32\n",
    "\n",
    "# Display the converted temperature in Fahrenheit\n",
    "print(f\"The temperature in Fahrenheit is: {fahrenheit:.2f}\")"
   ]
  },
  {
   "cell_type": "markdown",
   "id": "b8a017e0",
   "metadata": {},
   "source": [
    "### TOPIC: String Based Questions"
   ]
  },
  {
   "cell_type": "markdown",
   "id": "3d524292",
   "metadata": {},
   "source": [
    "#### 1. Write a Python program that takes a string as input and prints the length of the string."
   ]
  },
  {
   "cell_type": "code",
   "execution_count": 18,
   "id": "3788976f",
   "metadata": {},
   "outputs": [
    {
     "name": "stdout",
     "output_type": "stream",
     "text": [
      "Please enter a string: Tiger\n",
      "The length of the entered string is: 5\n"
     ]
    }
   ],
   "source": [
    "# Ask the user to enter a string\n",
    "a = input(\"Please enter a string: \")\n",
    "\n",
    "# Calculate the length of the entered string\n",
    "b = len(a)\n",
    "\n",
    "# Print the length of the string\n",
    "print(\"The length of the entered string is:\", b)\n"
   ]
  },
  {
   "cell_type": "markdown",
   "id": "4330675c",
   "metadata": {},
   "source": [
    "#### 2.Create a program that takes a sentence from the user and counts the number of vowels (a, e, i, o, u) in the string."
   ]
  },
  {
   "cell_type": "code",
   "execution_count": 20,
   "id": "e162cb7a",
   "metadata": {},
   "outputs": [
    {
     "name": "stdout",
     "output_type": "stream",
     "text": [
      "Enter a sentence: Prathamesh Vijay wagh\n",
      "Number of vowels in the sentence: 6\n"
     ]
    }
   ],
   "source": [
    "# Ask the user to enter a sentence\n",
    "user_sentence = input(\"Enter a sentence: \")\n",
    "\n",
    "# Initialize a variable to count vowels\n",
    "vowel_count = 0\n",
    "\n",
    "# Count the number of vowels in the sentence\n",
    "for char in user_sentence:\n",
    "    if char.lower() in \"aeiou\":\n",
    "        vowel_count += 1\n",
    "\n",
    "# Print the result\n",
    "print(\"Number of vowels in the sentence:\", vowel_count)\n"
   ]
  },
  {
   "cell_type": "markdown",
   "id": "ea66a3b2",
   "metadata": {},
   "source": [
    "#### 3.Given a string, reverse the order of characters using string slicing and print the reversed string."
   ]
  },
  {
   "cell_type": "code",
   "execution_count": 23,
   "id": "94074179",
   "metadata": {},
   "outputs": [
    {
     "name": "stdout",
     "output_type": "stream",
     "text": [
      "Reversed string: hsemahtarP\n"
     ]
    }
   ],
   "source": [
    "a = \"Prathamesh\"\n",
    "\n",
    "# Reverse the string using string slicing\n",
    "reversed_string = a[::-1]\n",
    "\n",
    "# Print the reversed string\n",
    "print(\"Reversed string:\", reversed_string)\n"
   ]
  },
  {
   "cell_type": "markdown",
   "id": "be044218",
   "metadata": {},
   "source": [
    "####  4.Write a program that takes a string as input and checks if it is a palindrome (reads the same forwards and backwards)."
   ]
  },
  {
   "cell_type": "code",
   "execution_count": 28,
   "id": "ce8c3f71",
   "metadata": {},
   "outputs": [
    {
     "name": "stdout",
     "output_type": "stream",
     "text": [
      "Enter a string: Step on no pets\n",
      "The entered string is a palindrome.\n"
     ]
    }
   ],
   "source": [
    "# Get input from the user\n",
    "user_input = input(\"Enter a string: \")\n",
    "\n",
    "# Remove spaces and convert to lowercase for case-insensitive comparison\n",
    "cleaned_input = user_input.replace(\" \", \"\").lower()\n",
    "\n",
    "# Check if the cleaned string is a palindrome\n",
    "if cleaned_input == cleaned_input[::-1]:\n",
    "    print(\"The entered string is a palindrome.\")\n",
    "else:\n",
    "    print(\"The entered string is not a palindrome.\")\n"
   ]
  },
  {
   "cell_type": "markdown",
   "id": "024d45fa",
   "metadata": {},
   "source": [
    "#### 5.Create a program that takes a string as input and removes all the spaces from it. Print the modified string without spaces."
   ]
  },
  {
   "cell_type": "code",
   "execution_count": 29,
   "id": "29fff3b5",
   "metadata": {},
   "outputs": [
    {
     "name": "stdout",
     "output_type": "stream",
     "text": [
      "Enter a string: Prathamesh Vijay Wagh\n",
      "Modified string without spaces: PrathameshVijayWagh\n"
     ]
    }
   ],
   "source": [
    "# Get input from the user\n",
    "a = input(\"Enter a string: \")\n",
    "\n",
    "# Remove spaces from the input string\n",
    "modified_string = a.replace(\" \", \"\")\n",
    "\n",
    "# Print the modified string without spaces\n",
    "print(\"Modified string without spaces:\", modified_string)\n"
   ]
  },
  {
   "cell_type": "code",
   "execution_count": null,
   "id": "f410efea",
   "metadata": {},
   "outputs": [],
   "source": []
  }
 ],
 "metadata": {
  "kernelspec": {
   "display_name": "Python 3 (ipykernel)",
   "language": "python",
   "name": "python3"
  },
  "language_info": {
   "codemirror_mode": {
    "name": "ipython",
    "version": 3
   },
   "file_extension": ".py",
   "mimetype": "text/x-python",
   "name": "python",
   "nbconvert_exporter": "python",
   "pygments_lexer": "ipython3",
   "version": "3.10.9"
  }
 },
 "nbformat": 4,
 "nbformat_minor": 5
}
